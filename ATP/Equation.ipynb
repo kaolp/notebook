{
 "cells": [
  {
   "cell_type": "code",
   "execution_count": 1,
   "metadata": {
    "collapsed": true
   },
   "outputs": [],
   "source": [
    "import pandas as pd\n",
    "import numpy as np\n",
    "import matplotlib.pyplot as plt\n",
    "import seaborn as sns\n",
    "import xlrd\n",
    "import math\n",
    "%matplotlib inline"
   ]
  },
  {
   "cell_type": "code",
   "execution_count": 28,
   "metadata": {
    "scrolled": true
   },
   "outputs": [
    {
     "name": "stdout",
     "output_type": "stream",
     "text": [
      "Files in 'C:\\Users\\Owner\\Documents': ['.ipynb_checkpoints', 'A.xlsx', 'cell counting software', 'Custom Office Templates', 'desktop.ini', 'Equation.ipynb', 'FeedbackHub', 'My DB.kdbx', 'My Music', 'My Pictures', 'My Videos', 'python', 'Python Scripts', 'surveys.docx']\n"
     ]
    }
   ],
   "source": [
    "import os\n",
    "\n",
    "cwd = os.getcwd()  # Get the current working directory (cwd)\n",
    "files = os.listdir(cwd)  # Get all the files in that directory\n",
    "print(\"Files in '%s': %s\" % (cwd, files))"
   ]
  },
  {
   "cell_type": "code",
   "execution_count": 29,
   "metadata": {},
   "outputs": [],
   "source": [
    "hek293DF = pd.read_excel(r\"C:\\Users\\Owner\\Documents\\A.xlsx\",'hek293')\n",
    "helaDF   = pd.read_excel(r\"C:\\Users\\Owner\\Documents\\A.xlsx\",'hela')\n",
    "mdckDF   = pd.read_excel(r\"C:\\Users\\Owner\\Documents\\A.xlsx\",'mdck')\n",
    "caco2DF  = pd.read_excel(r\"C:\\Users\\Owner\\Documents\\A.xlsx\",'caco2')\n",
    "aciniDF  = pd.read_excel(r\"C:\\Users\\Owner\\Documents\\A.xlsx\",'acini')\n",
    "spleenDF = pd.read_excel(r\"C:\\Users\\Owner\\Documents\\A.xlsx\",'spleen')\n",
    "\n",
    "s1_DF = pd.DataFrame()\n",
    "s2_DF = pd.DataFrame()\n",
    "s3_DF = pd.DataFrame()\n",
    "s4_DF = pd.DataFrame()\n",
    "s5_DF = pd.DataFrame()\n",
    "s6_DF = pd.DataFrame()"
   ]
  },
  {
   "cell_type": "code",
   "execution_count": 30,
   "metadata": {
    "collapsed": true
   },
   "outputs": [],
   "source": [
    "def quadEquation(a,b,c,y):\n",
    "    c = c - y\n",
    "    xPlus =  (-b + math.sqrt(math.pow(b, 2) - 4*a*c))/(2*a)\n",
    "    xMinus=  (-b - math.sqrt(math.pow(b, 2) - 4*a*c))/(2*a)\n",
    "    return (xPlus, xMinus)\n",
    "\n",
    "s1a = -358.6\n",
    "s1b = 430539\n",
    "s1c = 863184\n",
    "def quadS1(y):\n",
    "    return (quadEquation(s1a, s1b, s1c, y)[0])\n",
    "\n",
    "s2a = -366.74\n",
    "s2b = 354788\n",
    "s2c = 1000000\n",
    "def quadS2(y):\n",
    "    return (quadEquation(s2a, s2b, s2c, y)[0])\n",
    "\n",
    "s3a = -333.39\n",
    "s3b = 403356\n",
    "s3c = 849440\n",
    "def quadS3(y):\n",
    "    return (quadEquation(s3a, s3b, s3c, y)[0])\n",
    "\n",
    "s4a = -295.16\n",
    "s4b = 350642\n",
    "s4c = 259743\n",
    "\n",
    "def quadS4(y):\n",
    "    return (quadEquation(s4a, s4b, s4c, y)[0])\n",
    "\n",
    "s5a = -254.35\n",
    "s5b = 387970\n",
    "s5c = 2000000\n",
    "\n",
    "def quadS4(y):\n",
    "    return (quadEquation(s5a, s5b, s5c, y)[0])\n",
    "\n",
    "s6a = -334.36\n",
    "s6b = 396106\n",
    "s6c = 2000000\n",
    "\n",
    "def quadS4(y):\n",
    "    return (quadEquation(s6a, s6b, s6c, y)[0])"
   ]
  },
  {
   "cell_type": "code",
   "execution_count": 4,
   "metadata": {},
   "outputs": [
    {
     "name": "stdout",
     "output_type": "stream",
     "text": [
      "<class 'pandas.core.frame.DataFrame'>\n",
      "RangeIndex: 7 entries, 0 to 6\n",
      "Data columns (total 3 columns):\n",
      "0      7 non-null int64\n",
      "0.1    7 non-null int64\n",
      "0.2    7 non-null int64\n",
      "dtypes: int64(3)\n",
      "memory usage: 248.0 bytes\n"
     ]
    },
    {
     "data": {
      "text/html": [
       "<div>\n",
       "<style>\n",
       "    .dataframe thead tr:only-child th {\n",
       "        text-align: right;\n",
       "    }\n",
       "\n",
       "    .dataframe thead th {\n",
       "        text-align: left;\n",
       "    }\n",
       "\n",
       "    .dataframe tbody tr th {\n",
       "        vertical-align: top;\n",
       "    }\n",
       "</style>\n",
       "<table border=\"1\" class=\"dataframe\">\n",
       "  <thead>\n",
       "    <tr style=\"text-align: right;\">\n",
       "      <th></th>\n",
       "      <th>0</th>\n",
       "      <th>0.1</th>\n",
       "      <th>0.2</th>\n",
       "    </tr>\n",
       "  </thead>\n",
       "  <tbody>\n",
       "    <tr>\n",
       "      <th>0</th>\n",
       "      <td>1656293</td>\n",
       "      <td>1909177</td>\n",
       "      <td>2173194</td>\n",
       "    </tr>\n",
       "    <tr>\n",
       "      <th>1</th>\n",
       "      <td>3492300</td>\n",
       "      <td>3837177</td>\n",
       "      <td>3692164</td>\n",
       "    </tr>\n",
       "    <tr>\n",
       "      <th>2</th>\n",
       "      <td>9327246</td>\n",
       "      <td>10149173</td>\n",
       "      <td>10119184</td>\n",
       "    </tr>\n",
       "    <tr>\n",
       "      <th>3</th>\n",
       "      <td>24289256</td>\n",
       "      <td>25079173</td>\n",
       "      <td>24779164</td>\n",
       "    </tr>\n",
       "    <tr>\n",
       "      <th>4</th>\n",
       "      <td>47169246</td>\n",
       "      <td>46949173</td>\n",
       "      <td>46139187</td>\n",
       "    </tr>\n",
       "  </tbody>\n",
       "</table>\n",
       "</div>"
      ],
      "text/plain": [
       "          0       0.1       0.2\n",
       "0   1656293   1909177   2173194\n",
       "1   3492300   3837177   3692164\n",
       "2   9327246  10149173  10119184\n",
       "3  24289256  25079173  24779164\n",
       "4  47169246  46949173  46139187"
      ]
     },
     "execution_count": 4,
     "metadata": {},
     "output_type": "execute_result"
    }
   ],
   "source": [
    "hek293DF.info()\n",
    "hek293DF.head()"
   ]
  },
  {
   "cell_type": "code",
   "execution_count": 31,
   "metadata": {
    "collapsed": true
   },
   "outputs": [],
   "source": [
    "def myQuad(a, b, c):\n",
    "    # check for complex roots\n",
    "    if (b**2 < 4.0*a*c):\n",
    "        # if complex, print error\n",
    "        print ('Complex Results not allowed')\n",
    "        return (0,0)\n",
    "    else:\n",
    "        x1 = -b + math.sqrt(b**2 - 4.0*a*c)\n",
    "        x1 = x1/(2*a)\n",
    "        x2 = -b - math.sqrt(b**2 - 4.0*a*c)\n",
    "        x2 = x2/(2*a)\n",
    "        return (x1, x2)"
   ]
  },
  {
   "cell_type": "code",
   "execution_count": 32,
   "metadata": {},
   "outputs": [
    {
     "data": {
      "text/plain": [
       "[0, '0.1', '0.2']"
      ]
     },
     "execution_count": 32,
     "metadata": {},
     "output_type": "execute_result"
    }
   ],
   "source": [
    "list(hek293DF)"
   ]
  },
  {
   "cell_type": "code",
   "execution_count": 33,
   "metadata": {
    "collapsed": true
   },
   "outputs": [],
   "source": [
    "s1_DF = hek293DF.applymap(quadS1)\n",
    "s2_DF = helaDF.applymap(quadS2)\n",
    "s3_DF = mdckDF.applymap(quadS3)\n",
    "s4_DF = caco2DF.applymap(quadS4)"
   ]
  },
  {
   "cell_type": "code",
   "execution_count": 34,
   "metadata": {},
   "outputs": [
    {
     "data": {
      "text/html": [
       "<div>\n",
       "<style>\n",
       "    .dataframe thead tr:only-child th {\n",
       "        text-align: right;\n",
       "    }\n",
       "\n",
       "    .dataframe thead th {\n",
       "        text-align: left;\n",
       "    }\n",
       "\n",
       "    .dataframe tbody tr th {\n",
       "        vertical-align: top;\n",
       "    }\n",
       "</style>\n",
       "<table border=\"1\" class=\"dataframe\">\n",
       "  <thead>\n",
       "    <tr style=\"text-align: right;\">\n",
       "      <th></th>\n",
       "      <th>0</th>\n",
       "      <th>0.1</th>\n",
       "      <th>0.2</th>\n",
       "    </tr>\n",
       "  </thead>\n",
       "  <tbody>\n",
       "    <tr>\n",
       "      <th>0</th>\n",
       "      <td>1.844966</td>\n",
       "      <td>2.434433</td>\n",
       "      <td>3.050471</td>\n",
       "    </tr>\n",
       "    <tr>\n",
       "      <th>1</th>\n",
       "      <td>6.137948</td>\n",
       "      <td>6.947810</td>\n",
       "      <td>6.607147</td>\n",
       "    </tr>\n",
       "    <tr>\n",
       "      <th>2</th>\n",
       "      <td>19.992124</td>\n",
       "      <td>21.970329</td>\n",
       "      <td>21.898033</td>\n",
       "    </tr>\n",
       "    <tr>\n",
       "      <th>3</th>\n",
       "      <td>57.129463</td>\n",
       "      <td>59.160948</td>\n",
       "      <td>58.388497</td>\n",
       "    </tr>\n",
       "    <tr>\n",
       "      <th>4</th>\n",
       "      <td>119.434898</td>\n",
       "      <td>118.797207</td>\n",
       "      <td>116.457402</td>\n",
       "    </tr>\n",
       "  </tbody>\n",
       "</table>\n",
       "</div>"
      ],
      "text/plain": [
       "            0         0.1         0.2\n",
       "0    1.844966    2.434433    3.050471\n",
       "1    6.137948    6.947810    6.607147\n",
       "2   19.992124   21.970329   21.898033\n",
       "3   57.129463   59.160948   58.388497\n",
       "4  119.434898  118.797207  116.457402"
      ]
     },
     "execution_count": 34,
     "metadata": {},
     "output_type": "execute_result"
    }
   ],
   "source": [
    "s1_DF.head()"
   ]
  },
  {
   "cell_type": "code",
   "execution_count": 35,
   "metadata": {},
   "outputs": [
    {
     "data": {
      "text/html": [
       "<div>\n",
       "<style>\n",
       "    .dataframe thead tr:only-child th {\n",
       "        text-align: right;\n",
       "    }\n",
       "\n",
       "    .dataframe thead th {\n",
       "        text-align: left;\n",
       "    }\n",
       "\n",
       "    .dataframe tbody tr th {\n",
       "        vertical-align: top;\n",
       "    }\n",
       "</style>\n",
       "<table border=\"1\" class=\"dataframe\">\n",
       "  <thead>\n",
       "    <tr style=\"text-align: right;\">\n",
       "      <th></th>\n",
       "      <th>0</th>\n",
       "      <th>0.1</th>\n",
       "      <th>0.2</th>\n",
       "    </tr>\n",
       "  </thead>\n",
       "  <tbody>\n",
       "    <tr>\n",
       "      <th>0</th>\n",
       "      <td>0.023866</td>\n",
       "      <td>-0.137544</td>\n",
       "      <td>0.545574</td>\n",
       "    </tr>\n",
       "    <tr>\n",
       "      <th>1</th>\n",
       "      <td>2.111427</td>\n",
       "      <td>1.836395</td>\n",
       "      <td>2.312324</td>\n",
       "    </tr>\n",
       "    <tr>\n",
       "      <th>2</th>\n",
       "      <td>10.210763</td>\n",
       "      <td>9.841973</td>\n",
       "      <td>10.130217</td>\n",
       "    </tr>\n",
       "    <tr>\n",
       "      <th>3</th>\n",
       "      <td>23.892535</td>\n",
       "      <td>22.763824</td>\n",
       "      <td>21.387948</td>\n",
       "    </tr>\n",
       "    <tr>\n",
       "      <th>4</th>\n",
       "      <td>53.905721</td>\n",
       "      <td>52.891435</td>\n",
       "      <td>50.650875</td>\n",
       "    </tr>\n",
       "  </tbody>\n",
       "</table>\n",
       "</div>"
      ],
      "text/plain": [
       "           0        0.1        0.2\n",
       "0   0.023866  -0.137544   0.545574\n",
       "1   2.111427   1.836395   2.312324\n",
       "2  10.210763   9.841973  10.130217\n",
       "3  23.892535  22.763824  21.387948\n",
       "4  53.905721  52.891435  50.650875"
      ]
     },
     "execution_count": 35,
     "metadata": {},
     "output_type": "execute_result"
    }
   ],
   "source": [
    "s2_DF.head()"
   ]
  },
  {
   "cell_type": "code",
   "execution_count": 36,
   "metadata": {},
   "outputs": [
    {
     "data": {
      "text/html": [
       "<div>\n",
       "<style>\n",
       "    .dataframe thead tr:only-child th {\n",
       "        text-align: right;\n",
       "    }\n",
       "\n",
       "    .dataframe thead th {\n",
       "        text-align: left;\n",
       "    }\n",
       "\n",
       "    .dataframe tbody tr th {\n",
       "        vertical-align: top;\n",
       "    }\n",
       "</style>\n",
       "<table border=\"1\" class=\"dataframe\">\n",
       "  <thead>\n",
       "    <tr style=\"text-align: right;\">\n",
       "      <th></th>\n",
       "      <th>0</th>\n",
       "      <th>0.1</th>\n",
       "      <th>0.2</th>\n",
       "    </tr>\n",
       "  </thead>\n",
       "  <tbody>\n",
       "    <tr>\n",
       "      <th>0</th>\n",
       "      <td>0.957491</td>\n",
       "      <td>1.178314</td>\n",
       "      <td>1.096083</td>\n",
       "    </tr>\n",
       "    <tr>\n",
       "      <th>1</th>\n",
       "      <td>2.558764</td>\n",
       "      <td>3.011791</td>\n",
       "      <td>2.100382</td>\n",
       "    </tr>\n",
       "    <tr>\n",
       "      <th>2</th>\n",
       "      <td>10.606972</td>\n",
       "      <td>10.450396</td>\n",
       "      <td>10.031512</td>\n",
       "    </tr>\n",
       "    <tr>\n",
       "      <th>3</th>\n",
       "      <td>28.070903</td>\n",
       "      <td>27.473135</td>\n",
       "      <td>24.700558</td>\n",
       "    </tr>\n",
       "    <tr>\n",
       "      <th>4</th>\n",
       "      <td>68.512087</td>\n",
       "      <td>65.751148</td>\n",
       "      <td>67.422406</td>\n",
       "    </tr>\n",
       "  </tbody>\n",
       "</table>\n",
       "</div>"
      ],
      "text/plain": [
       "           0        0.1        0.2\n",
       "0   0.957491   1.178314   1.096083\n",
       "1   2.558764   3.011791   2.100382\n",
       "2  10.606972  10.450396  10.031512\n",
       "3  28.070903  27.473135  24.700558\n",
       "4  68.512087  65.751148  67.422406"
      ]
     },
     "execution_count": 36,
     "metadata": {},
     "output_type": "execute_result"
    }
   ],
   "source": [
    "s3_DF.head()"
   ]
  },
  {
   "cell_type": "code",
   "execution_count": 17,
   "metadata": {},
   "outputs": [
    {
     "data": {
      "text/html": [
       "<div>\n",
       "<style>\n",
       "    .dataframe thead tr:only-child th {\n",
       "        text-align: right;\n",
       "    }\n",
       "\n",
       "    .dataframe thead th {\n",
       "        text-align: left;\n",
       "    }\n",
       "\n",
       "    .dataframe tbody tr th {\n",
       "        vertical-align: top;\n",
       "    }\n",
       "</style>\n",
       "<table border=\"1\" class=\"dataframe\">\n",
       "  <thead>\n",
       "    <tr style=\"text-align: right;\">\n",
       "      <th></th>\n",
       "      <th>0</th>\n",
       "      <th>0.1</th>\n",
       "      <th>0.2</th>\n",
       "    </tr>\n",
       "  </thead>\n",
       "  <tbody>\n",
       "    <tr>\n",
       "      <th>0</th>\n",
       "      <td>3.204860</td>\n",
       "      <td>3.313650</td>\n",
       "      <td>3.116035</td>\n",
       "    </tr>\n",
       "    <tr>\n",
       "      <th>1</th>\n",
       "      <td>3.012826</td>\n",
       "      <td>2.703101</td>\n",
       "      <td>2.861026</td>\n",
       "    </tr>\n",
       "    <tr>\n",
       "      <th>2</th>\n",
       "      <td>6.762409</td>\n",
       "      <td>6.508548</td>\n",
       "      <td>6.976102</td>\n",
       "    </tr>\n",
       "    <tr>\n",
       "      <th>3</th>\n",
       "      <td>13.992953</td>\n",
       "      <td>14.159321</td>\n",
       "      <td>13.771138</td>\n",
       "    </tr>\n",
       "    <tr>\n",
       "      <th>4</th>\n",
       "      <td>26.774677</td>\n",
       "      <td>26.899865</td>\n",
       "      <td>25.033242</td>\n",
       "    </tr>\n",
       "  </tbody>\n",
       "</table>\n",
       "</div>"
      ],
      "text/plain": [
       "           0        0.1        0.2\n",
       "0   3.204860   3.313650   3.116035\n",
       "1   3.012826   2.703101   2.861026\n",
       "2   6.762409   6.508548   6.976102\n",
       "3  13.992953  14.159321  13.771138\n",
       "4  26.774677  26.899865  25.033242"
      ]
     },
     "execution_count": 17,
     "metadata": {},
     "output_type": "execute_result"
    }
   ],
   "source": [
    "s4_DF.head()"
   ]
  },
  {
   "cell_type": "code",
   "execution_count": 18,
   "metadata": {},
   "outputs": [
    {
     "data": {
      "text/plain": [
       "<matplotlib.axes._subplots.AxesSubplot at 0x11b4c01d0>"
      ]
     },
     "execution_count": 18,
     "metadata": {},
     "output_type": "execute_result"
    },
    {
     "data": {
      "image/png": "[encoded data removed]",
      "text/plain": [
       "<matplotlib.figure.Figure at 0x11b4b94a8>"
      ]
     },
     "metadata": {},
     "output_type": "display_data"
    }
   ],
   "source": [
    "s1_DF.plot()"
   ]
  },
  {
   "cell_type": "code",
   "execution_count": 19,
   "metadata": {},
   "outputs": [
    {
     "data": {
      "text/plain": [
       "<matplotlib.axes._subplots.AxesSubplot at 0x11e8ca2e8>"
      ]
     },
     "execution_count": 19,
     "metadata": {},
     "output_type": "execute_result"
    },
    {
     "data": {
      "image/png": "[encoded data removed]",
      "text/plain": [
       "<matplotlib.figure.Figure at 0x11e8c4c50>"
      ]
     },
     "metadata": {},
     "output_type": "display_data"
    }
   ],
   "source": [
    "s2_DF.plot()"
   ]
  },
  {
   "cell_type": "code",
   "execution_count": 20,
   "metadata": {},
   "outputs": [
    {
     "data": {
      "text/plain": [
       "<matplotlib.axes._subplots.AxesSubplot at 0x11e914940>"
      ]
     },
     "execution_count": 20,
     "metadata": {},
     "output_type": "execute_result"
    },
    {
     "data": {
      "image/png": "[encoded data removed]",
      "text/plain": [
       "<matplotlib.figure.Figure at 0x11ea7b630>"
      ]
     },
     "metadata": {},
     "output_type": "display_data"
    }
   ],
   "source": [
    "s3_DF.plot()"
   ]
  },
  {
   "cell_type": "code",
   "execution_count": 21,
   "metadata": {},
   "outputs": [
    {
     "data": {
      "text/plain": [
       "<matplotlib.axes._subplots.AxesSubplot at 0x11e9adc50>"
      ]
     },
     "execution_count": 21,
     "metadata": {},
     "output_type": "execute_result"
    },
    {
     "data": {
      "image/png": "[encoded data removed]",
      "text/plain": [
       "<matplotlib.figure.Figure at 0x11eab8e48>"
      ]
     },
     "metadata": {},
     "output_type": "display_data"
    }
   ],
   "source": [
    "s4_DF.plot()"
   ]
  },
  {
   "cell_type": "code",
   "execution_count": 22,
   "metadata": {},
   "outputs": [
    {
     "data": {
      "text/plain": [
       "array([[<matplotlib.axes._subplots.AxesSubplot object at 0x11ed1fc88>,\n",
       "        <matplotlib.axes._subplots.AxesSubplot object at 0x11ee27668>],\n",
       "       [<matplotlib.axes._subplots.AxesSubplot object at 0x11ee38518>,\n",
       "        <matplotlib.axes._subplots.AxesSubplot object at 0x11eef6208>]], dtype=object)"
      ]
     },
     "execution_count": 22,
     "metadata": {},
     "output_type": "execute_result"
    },
    {
     "data": {
      "image/png": "[encoded data removed]",
      "text/plain": [
       "<matplotlib.figure.Figure at 0x11ed2a358>"
      ]
     },
     "metadata": {},
     "output_type": "display_data"
    }
   ],
   "source": [
    "s1_DF.hist()"
   ]
  },
  {
   "cell_type": "code",
   "execution_count": 26,
   "metadata": {},
   "outputs": [
    {
     "data": {
      "text/plain": [
       "<seaborn.axisgrid.PairGrid at 0x11ef89978>"
      ]
     },
     "execution_count": 26,
     "metadata": {},
     "output_type": "execute_result"
    },
    {
     "data": {
      "image/png": "[encoded data removed]",
      "text/plain": [
       "<matplotlib.figure.Figure at 0x11ef89f60>"
      ]
     },
     "metadata": {},
     "output_type": "display_data"
    }
   ],
   "source": [
    "sns.pairplot(s1_DF)"
   ]
  },
  {
   "cell_type": "code",
   "execution_count": 27,
   "metadata": {},
   "outputs": [
    {
     "data": {
      "text/plain": [
       "<matplotlib.axes._subplots.AxesSubplot at 0x11f83c6a0>"
      ]
     },
     "execution_count": 27,
     "metadata": {},
     "output_type": "execute_result"
    },
    {
     "data": {
      "image/png": "[encoded data removed]",
      "text/plain": [
       "<matplotlib.figure.Figure at 0x11ef779b0>"
      ]
     },
     "metadata": {},
     "output_type": "display_data"
    }
   ],
   "source": [
    "sns.kdeplot(s1_DF)"
   ]
  },
  {
   "cell_type": "code",
   "execution_count": null,
   "metadata": {
    "collapsed": true
   },
   "outputs": [],
   "source": []
  }
 ],
 "metadata": {
  "kernelspec": {
   "display_name": "Python 3",
   "language": "python",
   "name": "python3"
  },
  "language_info": {
   "codemirror_mode": {
    "name": "ipython",
    "version": 3
   },
   "file_extension": ".py",
   "mimetype": "text/x-python",
   "name": "python",
   "nbconvert_exporter": "python",
   "pygments_lexer": "ipython3",
   "version": "3.6.1"
  }
 },
 "nbformat": 4,
 "nbformat_minor": 2
}
